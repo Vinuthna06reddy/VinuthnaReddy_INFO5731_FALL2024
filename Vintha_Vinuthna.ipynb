{
  "cells": [
    {
      "cell_type": "markdown",
      "metadata": {
        "id": "view-in-github",
        "colab_type": "text"
      },
      "source": [
        "<a href=\"https://colab.research.google.com/github/Vinuthna06reddy/VinuthnaReddy_INFO5731_FALL2024/blob/main/Vintha_Vinuthna.ipynb\" target=\"_parent\"><img src=\"https://colab.research.google.com/assets/colab-badge.svg\" alt=\"Open In Colab\"/></a>"
      ]
    },
    {
      "cell_type": "markdown",
      "metadata": {
        "id": "Ryk8D1Q4Wsrp"
      },
      "source": [
        "# **INFO5731 Assignment One**"
      ]
    },
    {
      "cell_type": "markdown",
      "metadata": {
        "id": "qcP6re2g5A5r"
      },
      "source": [
        "This assignment includes range of programming tasks and data analysis exercises, aiming to enhance your Python skills and proficiency in string manipulation, numerical computations, and data science. Follow the instructions carefully and design well-structured Python programs to address each question.\n",
        "\n",
        "Late Submission will have a penalty of 10% reduction for each day after the deadline."
      ]
    },
    {
      "cell_type": "markdown",
      "metadata": {
        "id": "JkzR8cFAyGik"
      },
      "source": [
        "# Question 1 (10 points).\n",
        "\n",
        "The formula that describes the volume V of a hemisphere with radius r is the following:\n",
        "\n",
        "$ V=\\frac{2}{3}\\ast\\ \\pi\\ast\\ r^3 $\n",
        "\n",
        "Write a program to calculate the value of V when r is in the range of even numbers from 1-20. Output the result in the following format:\n",
        "\n",
        "\tr\tV\n",
        "\t2\t…\n",
        "\t4\t…\n",
        "\t6\t…\n",
        "\t.\n",
        "\t.\n",
        "\t.\n",
        "\t20\t…\n"
      ]
    },
    {
      "cell_type": "code",
      "execution_count": null,
      "metadata": {
        "colab": {
          "base_uri": "https://localhost:8080/"
        },
        "id": "jDyTKYs-yGit",
        "outputId": "90eadb32-f033-4270-b2f6-fb5608cdd8d7"
      },
      "outputs": [
        {
          "name": "stdout",
          "output_type": "stream",
          "text": [
            "2 16.747\n",
            "4 133.973\n",
            "6 452.16\n",
            "8 1071.787\n",
            "10 2093.333\n",
            "12 3617.28\n",
            "14 5744.107\n",
            "16 8574.293\n",
            "18 12208.32\n",
            "20 16746.667\n"
          ]
        }
      ],
      "source": [
        "r= [2,4,6,8,10,12,14,16,18,20]\n",
        "for i in r:\n",
        "  v=(2/3)*3.14*(i**3)\n",
        "  v=round(v,3)\n",
        "  print(i,v)\n"
      ]
    },
    {
      "cell_type": "markdown",
      "metadata": {
        "id": "90_NR8c5XGWc"
      },
      "source": [
        "# Question 2 (20 points)\n",
        "\n",
        "(a) Write a Python program to generate a sequence of 12 random numbers falling within the range of 50 to 150.\n",
        "\n",
        "(b) Arrange the generated numbers in ascending order. Display the sorted list.\n",
        "\n",
        "(c) Extend the program to arrange the numbers in descending order as well. Present the sorted list accordingly.\n",
        "\n",
        "(d) Compute and output the average of the entire group of generated numbers.\n",
        "\n",
        "(e) Enhance the program to calculate and display the average of the first 6 numbers from both the ascending and descending sorted lists."
      ]
    },
    {
      "cell_type": "code",
      "execution_count": null,
      "metadata": {
        "colab": {
          "base_uri": "https://localhost:8080/"
        },
        "id": "5QX6bJjGWXY9",
        "outputId": "77a70f2e-4869-496c-dca2-55ed39feb5c7"
      },
      "outputs": [
        {
          "name": "stdout",
          "output_type": "stream",
          "text": [
            "Generated numbers: [141, 55, 51, 141, 54, 92, 84, 81, 55, 91, 76, 91]\n",
            "Ascending order: [51, 54, 55, 55, 76, 81, 84, 91, 91, 92, 141, 141]\n",
            "Descending order: [141, 141, 92, 91, 91, 84, 81, 76, 55, 55, 54, 51]\n",
            "Average of all numbers: 84.33333333333333\n",
            "Average of first 6 numbers in ascending order: 62.0\n",
            "Average of first 6 numbers in descending order: 106.66666666666667\n"
          ]
        }
      ],
      "source": [
        "import random\n",
        "random_numbers = [random.randint(50, 150) for _ in range(12)]\n",
        "print(\"Generated numbers:\", random_numbers)\n",
        "ascending_numbers = sorted(random_numbers)\n",
        "print(\"Ascending order:\", ascending_numbers)\n",
        "descending_numbers = sorted(random_numbers, reverse=True)\n",
        "print(\"Descending order:\", descending_numbers)\n",
        "average_all = sum(random_numbers) / len(random_numbers)\n",
        "print(\"Average of all numbers:\", average_all)\n",
        "average_first_6_ascending = sum(ascending_numbers[:6]) / 6\n",
        "print(\"Average of first 6 numbers in ascending order:\", average_first_6_ascending)\n",
        "average_first_6_descending = sum(descending_numbers[:6]) / 6\n",
        "print(\"Average of first 6 numbers in descending order:\", average_first_6_descending)\n",
        "\n"
      ]
    },
    {
      "cell_type": "markdown",
      "metadata": {
        "id": "1F_PZdH9Sh49"
      },
      "source": [
        "# Question 3 (20 points).\n",
        "\n",
        "Create a Python program that encompasses various string manipulation task:\n",
        "\n",
        "(a) Prompt the user to input two sentences.\n",
        "\n",
        "(b) Transform each sentence into a list, where each element corresponds to a word in the sentence. For example, if the sentences are \"Hello, how are you doing today?\" and \"This is an example sentence for the program!\"\n",
        "\n",
        "The program should output:\n",
        "['Hello', ',', 'how', 'are', 'you', 'doing', 'today', '?', 'This', 'is', 'an', 'example', 'sentence', 'for', 'the', 'program', '!']\n",
        "\n",
        "(c) Compare the two sentences. Print out a list of words that occur in both sentences.\n",
        "\n",
        "(d) Remove any punctuation from the sentence and print the sanitized sentences. It should remove at least the following characters, but it can remove more: period(“.”), comma (“,”), semicolon (“;”), and colon (“:”).\n",
        "\n",
        "(e) Count the number of vowels in each of the sentences. Print out each vowel and the occurrences  in the each of the two sentences separately, such as:\n",
        "\n",
        "Sentence1: a:2, e:2, i:0, etc.\n",
        "Sentence2: a:1, e:2, i:2, etc.\n",
        "\n",
        "Design a well-structured Python program to execute these tasks efficiently."
      ]
    },
    {
      "cell_type": "code",
      "execution_count": null,
      "metadata": {
        "colab": {
          "base_uri": "https://localhost:8080/"
        },
        "id": "Y0oOSlsOS0cq",
        "outputId": "2d57a5a0-4b7b-4644-a914-ad79db0c818d"
      },
      "outputs": [
        {
          "name": "stdout",
          "output_type": "stream",
          "text": [
            "Enter the first sentence: \"Hello, how are you doing today?\"\n",
            "Enter the second sentence: This is an example sentence for the program!\"\n",
            "Combined list of words: ['\"Hello,', 'how', 'are', 'you', 'doing', 'today?\"', 'This', 'is', 'an', 'example', 'sentence', 'for', 'the', 'program!\"']\n",
            "Common words in both sentences: []\n",
            "Sanitized Sentence 1: Hello how are you doing today\n",
            "Sanitized Sentence 2: This is an example sentence for the program\n",
            "Vowel counts for Sentence 1: {'a': 2, 'e': 2, 'i': 1, 'o': 5, 'u': 1, 'A': 0, 'E': 0, 'I': 0, 'O': 0, 'U': 0}\n",
            "Vowel counts for Sentence 2: {'a': 3, 'e': 6, 'i': 2, 'o': 2, 'u': 0, 'A': 0, 'E': 0, 'I': 0, 'O': 0, 'U': 0}\n"
          ]
        }
      ],
      "source": [
        "import string\n",
        "sentence1 = input(\"Enter the first sentence: \")\n",
        "sentence2 = input(\"Enter the second sentence: \")\n",
        "sentence1_list = sentence1.split()\n",
        "sentence2_list = sentence2.split()\n",
        "combined_list = sentence1_list + sentence2_list\n",
        "print(\"Combined list of words:\", combined_list)\n",
        "common_words = set(sentence1_list).intersection(set(sentence2_list))\n",
        "print(\"Common words in both sentences:\", list(common_words))\n",
        "def remove_punctuation(sentence):\n",
        "    return sentence.translate(str.maketrans('', '', string.punctuation))\n",
        "clean_sentence1 = remove_punctuation(sentence1)\n",
        "clean_sentence2 = remove_punctuation(sentence2)\n",
        "print(\"Sanitized Sentence 1:\", clean_sentence1)\n",
        "print(\"Sanitized Sentence 2:\", clean_sentence2)\n",
        "def count_vowels(sentence):\n",
        "    vowels = 'aeiouAEIOU'\n",
        "    vowel_count = {v: sentence.lower().count(v) for v in vowels}\n",
        "    return vowel_count\n",
        "vowels_sentence1 = count_vowels(clean_sentence1)\n",
        "vowels_sentence2 = count_vowels(clean_sentence2)\n",
        "print(\"Vowel counts for Sentence 1:\", vowels_sentence1)\n",
        "print(\"Vowel counts for Sentence 2:\", vowels_sentence2)\n",
        "\n",
        "\n"
      ]
    },
    {
      "cell_type": "markdown",
      "metadata": {
        "id": "OP4-5qxAtInv"
      },
      "source": [
        "# Question 4 (20 Points)"
      ]
    },
    {
      "cell_type": "markdown",
      "metadata": {
        "id": "uzN4_hDptK9U"
      },
      "source": [
        "Design and implement a simple command-line calculator program. The program should handle both integers and floating-point numbers.\n",
        "\n",
        "(a) Write program that takes a mathematical expression as input and evaluates it. The program should support addition, subtraction, multiplication, and division.\n",
        "\n",
        "(b) Extend the calculator to handle parentheses in mathematical expressions. Implement the necessary logic to evaluate expressions with nested parentheses.\n",
        "\n",
        "(c) Enhance your calculator to include additional mathematical operations such as exponentiation, square root, and modulus.\n",
        "\n",
        "(d) Implement error handling in the calculator program. Handle cases such as division by zero and invalid input expressions. Provide meaningful error messages.\n",
        "\n",
        "(e) Implement a command to exit the calculator."
      ]
    },
    {
      "cell_type": "code",
      "execution_count": null,
      "metadata": {
        "colab": {
          "background_save": true,
          "base_uri": "https://localhost:8080/"
        },
        "id": "8nQnVxjJuYtu",
        "outputId": "6fbd564e-85ec-47fa-d753-22175816673d"
      },
      "outputs": [
        {
          "name": "stdout",
          "output_type": "stream",
          "text": [
            "Welcome to the Simple Calculator\n",
            "Supports operations: +, -, *, /, %, **, math.sqrt()\n",
            "Type 'exit' to quit the calculator.\n",
            "\n",
            "Result: -4\n",
            "\n",
            "Result: 72\n",
            "\n",
            "Result: Error: Invalid input expression.\n",
            "\n",
            "Result: 4.0\n",
            "\n",
            "Result: 2401\n",
            "\n",
            "Exiting calculator.\n"
          ]
        }
      ],
      "source": [
        "import math\n",
        "def evaluate_expression(expression):\n",
        "    try:\n",
        "        result = eval(expression)\n",
        "        return result\n",
        "    except ZeroDivisionError:\n",
        "        return \"Error: Division by zero is not allowed.\"\n",
        "    except (SyntaxError, NameError):\n",
        "        return \"Error: Invalid input expression.\"\n",
        "    except Exception as e:\n",
        "        return f\"Error: {e}\"\n",
        "def main():\n",
        "    print(\"Welcome to the Simple Calculator\")\n",
        "    print(\"Supports operations: +, -, *, /, %, **, math.sqrt()\")\n",
        "    print(\"Type 'exit' to quit the calculator.\\n\")\n",
        "    while True:\n",
        "        expression = input(\"Enter a mathematical expression: \")\n",
        "        if expression.lower() == \"exit\":\n",
        "            print(\"Exiting calculator.\")\n",
        "            break\n",
        "        result = evaluate_expression(expression)\n",
        "        print(f\"Result: {result}\\n\")\n",
        "if __name__ == \"__main__\":\n",
        "    main()\n"
      ]
    },
    {
      "cell_type": "markdown",
      "metadata": {
        "id": "z3tBE7E-Xn5X"
      },
      "source": [
        "# Question 5 (30 points).\n",
        "\n",
        "In the field of Data Science, data is often formatted as a comma-delimited (CSV) file, where each line in a file corresponds to a field's value. Refer to Chapter 9 (p. 106) for more information on comma-delimited files.\n",
        "\n",
        "To answer this question, you will need to download the file [Assignment1_denton_housing.csv](https://raw.githubusercontent.com/unt-iialab/info5731-spring2022/main/assignments/Assignment1_denton_housing.csv) included with this assignment. The file contains statistics about housing in the city of Denton from 2008 to 2014. Write a program to implement the following questions.\n",
        "\n",
        "(a) (5 pts) Calculate the difference in the number of Occupied Housing Units from year to year and print it. The difference must be calculated for the consecutive years such as 2008-2009, 2009-2010 etc. Finally, print the values in the ascending order.\n",
        "\n",
        "(b) (5 pts) For all the years, calculate the percentage of housing units which are vacant an occupied. Print the results in the following format:\n",
        "\n",
        "Year Vacant Housing Units Occupied Housing Units\n",
        "\n",
        "    2008  30%   70%                          \n",
        "\t2009 ----- -----\n",
        "\t2010 ----- -----\n",
        "    2011 ----- -----\n",
        "\t2012 ----- -----\n",
        "    2013 ----- -----\n",
        "\t2014 ----- -----\n",
        "  \n",
        "  \n",
        "\n",
        "(c) (10 pts) Calculate and print the valued and years in which the highest number of housing units were vacant and occupied. Print the results in the following format:  \n",
        "\n",
        "                              Year\tValue\n",
        "\tVacant Housing Units\t  -----   -----\n",
        "\tOccupied Housing Units\t-----   -----\n",
        "\n",
        "(d) (10 pts) Calculate the harmonic mean of the total housing units and print it out. You can find the information about harmonic mean here: https://ncalculators.com/statistics/harmonic-mean-calculator.htm"
      ]
    },
    {
      "cell_type": "code",
      "execution_count": null,
      "metadata": {
        "colab": {
          "base_uri": "https://localhost:8080/"
        },
        "id": "pVJe4v3qSm6t",
        "outputId": "f9784007-8012-4986-eec7-41cebc4cbf8b"
      },
      "outputs": [
        {
          "output_type": "stream",
          "name": "stdout",
          "text": [
            "    year  Difference\n",
            "20  2008         NaN\n",
            "17  2009       795.0\n",
            "14  2010      5091.0\n",
            "11  2011       303.0\n",
            "8   2012      1404.0\n",
            "5   2013      1565.0\n",
            "2   2014      2622.0 \n",
            "\n",
            "\n",
            "title_field Vacant Housing Units Occupied Housing Units\n",
            "year                                                   \n",
            "2008                      10.88%                 89.12%\n",
            "2009                       9.07%                 90.93%\n",
            "2010                       8.14%                 91.86%\n",
            "2011                       9.38%                 90.62%\n",
            "2012                       6.68%                 93.32%\n",
            "2013                        8.8%                  91.2%\n",
            "2014                       5.73%                 94.27% \n",
            "\n",
            "\n",
            "                          Year   Value\n",
            "Vacant Housing Units      2008   4483\n",
            "Occupied Housing Units    2014   46295\n",
            "\n",
            "The harmonic mean of total housing units is 44398.28543969185\n"
          ]
        }
      ],
      "source": [
        "import numpy as np\n",
        "import pandas as pd\n",
        "from scipy import stats\n",
        "df = pd.read_csv('/content/sample_data/Assignment1_denton_housing.csv')\n",
        "df1 = df[df['title_field'] == 'Occupied Housing Units'].sort_values(by=['year'])\n",
        "df1['Difference'] = abs(df1['value'].diff())\n",
        "print(df1[['year', 'Difference']],'\\n\\n')\n",
        "\n",
        "df2 = df.pivot_table(index='year', columns='title_field', values='value', aggfunc='sum')\n",
        "df2['Vacant Housing Units'] = (df2['Vacant Housing Units'] / df2['Total Housing Units']) * 100\n",
        "df2['Occupied Housing Units'] = (df2['Occupied Housing Units'] / df2['Total Housing Units']) * 100\n",
        "df2['Vacant Housing Units'] = round(df2['Vacant Housing Units'], 2)\n",
        "df2['Occupied Housing Units'] = round(df2['Occupied Housing Units'], 2)\n",
        "df2['Vacant Housing Units'] = df2['Vacant Housing Units'].astype(str) + '%'\n",
        "df2['Occupied Housing Units'] = df2['Occupied Housing Units'].astype(str) + '%'\n",
        "print(df2[['Vacant Housing Units', 'Occupied Housing Units']], '\\n\\n')\n",
        "\n",
        "df3 = df.pivot_table(index='year', columns='title_field', values='value', aggfunc='max')\n",
        "df3 = df3.drop(['Median Gross Rent','Owner Occupied','Renter Occupied','Total Housing Units'], axis=1)\n",
        "vacant_max_year = df3['Vacant Housing Units'].idxmax()\n",
        "vacant_max_value = df3['Vacant Housing Units'].max()\n",
        "occupied_max_year = df3['Occupied Housing Units'].idxmax()\n",
        "occupied_max_value = df3['Occupied Housing Units'].max()\n",
        "print(f\"\"\"                          Year   Value\n",
        "Vacant Housing Units      {vacant_max_year}   {vacant_max_value}\n",
        "Occupied Housing Units    {occupied_max_year}   {occupied_max_value}\n",
        "\"\"\")\n",
        "\n",
        "df4 = df[df['title_field'] == 'Total Housing Units']\n",
        "print('The harmonic mean of total housing units is', stats.hmean(df4['value']))\n"
      ]
    },
    {
      "cell_type": "markdown",
      "metadata": {
        "id": "q8BFCvWp32cf"
      },
      "source": [
        "# Mandatory Question\n",
        "\n",
        "Provide your thoughts on the assignment. What did you find challenging, and what aspects did you enjoy? Your opinion on the provided time to complete the assignment. Share any suggestions for improvement. Your feedback will be valuable for enhancing the learning experience."
      ]
    },
    {
      "cell_type": "code",
      "execution_count": null,
      "metadata": {
        "id": "_e557s2w4BpK"
      },
      "outputs": [],
      "source": [
        "# It was fun to embedd code for multiple tasks in a single program and I enjoyed solving these, though 5th question turned out to be a bit difficult solving."
      ]
    }
  ],
  "metadata": {
    "colab": {
      "provenance": [],
      "toc_visible": true,
      "include_colab_link": true
    },
    "kernelspec": {
      "display_name": "Python 3 (ipykernel)",
      "language": "python",
      "name": "python3"
    },
    "language_info": {
      "codemirror_mode": {
        "name": "ipython",
        "version": 3
      },
      "file_extension": ".py",
      "mimetype": "text/x-python",
      "name": "python",
      "nbconvert_exporter": "python",
      "pygments_lexer": "ipython3",
      "version": "3.9.12"
    }
  },
  "nbformat": 4,
  "nbformat_minor": 0
}